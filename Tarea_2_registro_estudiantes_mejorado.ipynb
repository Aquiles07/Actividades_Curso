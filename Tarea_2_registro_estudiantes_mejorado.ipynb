{
  "nbformat": 4,
  "nbformat_minor": 0,
  "metadata": {
    "colab": {
      "provenance": [],
      "authorship_tag": "ABX9TyPAE9Yp0h4wlvocxhEkFSmU",
      "include_colab_link": true
    },
    "kernelspec": {
      "name": "python3",
      "display_name": "Python 3"
    },
    "language_info": {
      "name": "python"
    }
  },
  "cells": [
    {
      "cell_type": "markdown",
      "metadata": {
        "id": "view-in-github",
        "colab_type": "text"
      },
      "source": [
        "<a href=\"https://colab.research.google.com/github/Aquiles07/Actividades_Curso/blob/main/Tarea_2_registro_estudiantes_mejorado.ipynb\" target=\"_parent\"><img src=\"https://colab.research.google.com/assets/colab-badge.svg\" alt=\"Open In Colab\"/></a>"
      ]
    },
    {
      "cell_type": "code",
      "source": [
        "from datetime import date\n",
        "\n",
        "class Persona:\n",
        "    def __init__(self, nombre=\"Sin nombre\", apellido=\"Sin apellido\", fecha_nacimiento=(1900, 1, 1)):\n",
        "        self.nombre = nombre\n",
        "        self.apellido = apellido\n",
        "        self.fecha_nacimiento = date(*fecha_nacimiento)\n",
        "\n",
        "    def saludos(self):\n",
        "        print(\"Saludos, soy\", self.nombre, self.apellido)\n",
        "\n",
        "    def calcula_edad(self):\n",
        "        today = date.today()\n",
        "        edad = int((today - self.fecha_nacimiento).days / 365)\n",
        "        return edad\n",
        "\n",
        "class Estudiante(Persona):\n",
        "    def __init__(self, nombre=\"Sin nombre\", apellido=\"Sin apellido\", fecha_nacimiento=(1900, 1, 1),\n",
        "                 semestre=1):\n",
        "        super().__init__(nombre, apellido, fecha_nacimiento)\n",
        "        self.semestre = semestre\n",
        "        self.materias = []\n",
        "        self.calificaciones = {}\n",
        "        self.__meses__ = {1: \"Enero\", 2: \"Febrero\", 3: \"Marzo\", 4: \"Abril\", 5: \"Mayo\", \\\n",
        "                          6: \"Junio\", 7: \"Julio\", 8: \"Agosto\", 9: \"Septiembre\", \\\n",
        "                          10: \"Octubre\", 11: \"Noviembre\", 12: \"Diciembre\"}\n",
        "\n",
        "    def setMatricula(self):\n",
        "        if self.fecha_nacimiento.year == 1900:\n",
        "            print(\"Error: Fecha de nacimiento inválida\")\n",
        "        else:\n",
        "            self.matricula = str(self.fecha_nacimiento.year) + self.nombre[:2] + self.apellido[:2]\n",
        "        return\n",
        "\n",
        "    def getMatricula(self):\n",
        "        return self.matricula\n",
        "\n",
        "    def setFechaIngreso(self, fecha: tuple):\n",
        "        self.fecha_ingreso = date(*fecha)\n",
        "        return\n",
        "\n",
        "    def setSemestre(self, semestre=1):\n",
        "        self.semestre = semestre\n",
        "        return\n",
        "\n",
        "    def getFechaIngreso(self):\n",
        "        anio = self.fecha_ingreso.year\n",
        "        mes = self.fecha_ingreso.month\n",
        "        dia = self.fecha_ingreso.day\n",
        "        print(f\"El estudiante {self.nombre} {self.apellido} ingresó el {dia} de {self.__meses__[mes]} de {anio}\")\n",
        "        return\n",
        "\n",
        "class Registro():\n",
        "    def __init__(self, *args: Estudiante, **kwargs):\n",
        "        if kwargs.get(\"estudiante\") is not None:\n",
        "            self.estudiante = Estudiante(*kwargs.get(\"estudiante\"))\n",
        "        else:\n",
        "            self.estudiante = args[0]  # objeto de tipo Estudiante\n",
        "\n",
        "    def setCalificaciones(self, **kwargs):\n",
        "        if len(kwargs) == 0:\n",
        "            print(\"Error: Ningún registro de calificaciones proporcionado\")\n",
        "        else:\n",
        "            if kwargs.get('registros') is not None:\n",
        "                if len(kwargs.get('registros')) == 0:\n",
        "                    print(\"Error: Ningún registro de calificaciones proporcionado\")\n",
        "                else:\n",
        "                    registros = kwargs.get('registros')\n",
        "                    for r in registros:\n",
        "                        self.estudiante.calificaciones[r[0]] = r[1]\n",
        "\n",
        "            elif kwargs.get('materias') is not None and kwargs.get('calificaciones') is not None:\n",
        "                materias = kwargs.get('materias')\n",
        "                califs = kwargs.get('calificaciones')\n",
        "                if len(materias) != len(califs):\n",
        "                    print(\"Error: no hay correspondencia entre el número de materias y el número de calificaciones\")\n",
        "                else:\n",
        "                    for m, c in zip(materias, califs):\n",
        "                        self.estudiante.calificaciones[m] = c\n",
        "        return\n",
        "\n",
        "    def printCalificaciones(self):\n",
        "        if len(self.estudiante.calificaciones) == 0:\n",
        "            print(\"Error: no se han capturado calificaciones\")\n",
        "        else:\n",
        "            for m in self.estudiante.calificaciones.keys():\n",
        "                print(f\"{m}: {self.estudiante.calificaciones[m]}\")\n",
        "        return\n",
        "\n",
        "    def calcularPromedio(self):\n",
        "        if len(self.estudiante.calificaciones) == 0:\n",
        "            print(\"Error: no se han capturado calificaciones para calcular el promedio\")\n",
        "        else:\n",
        "            promedio = sum(self.estudiante.calificaciones.values()) / len(self.estudiante.calificaciones)\n",
        "            print(\"\")\n",
        "            print(f\"Promedio de calificaciones del alumno: {promedio}\")\n"
      ],
      "metadata": {
        "id": "QD3CjiGMfmy5"
      },
      "execution_count": 7,
      "outputs": []
    },
    {
      "cell_type": "code",
      "source": [
        "# Ejemplo 1\n",
        "estudiante = Estudiante(\"Juan\",\"Perez\",(1982,8,1),3)\n",
        "print(estudiante.nombre)\n",
        "print(estudiante.semestre)\n"
      ],
      "metadata": {
        "id": "eNmTuH3-n8hL",
        "colab": {
          "base_uri": "https://localhost:8080/"
        },
        "outputId": "a1e1a92e-a2a5-4396-d480-e52c7c78bdd7"
      },
      "execution_count": null,
      "outputs": [
        {
          "output_type": "stream",
          "name": "stdout",
          "text": [
            "Juan\n",
            "3\n"
          ]
        }
      ]
    },
    {
      "cell_type": "code",
      "source": [
        "registro1 = Registro(estudiante)\n",
        "registro2 = Registro(estudiante=['Ana', 'Gonzalez', (1999, 2, 26), 6])\n"
      ],
      "metadata": {
        "id": "6HGGbP_-zlOV"
      },
      "execution_count": null,
      "outputs": []
    },
    {
      "cell_type": "code",
      "source": [
        "registro1.estudiante.setMatricula()\n",
        "registro1.estudiante.getMatricula()"
      ],
      "metadata": {
        "colab": {
          "base_uri": "https://localhost:8080/",
          "height": 36
        },
        "id": "HGXGLZ3Qzyiq",
        "outputId": "7cdf0ab2-a28d-4978-901a-cac9fdfadf61"
      },
      "execution_count": null,
      "outputs": [
        {
          "output_type": "execute_result",
          "data": {
            "text/plain": [
              "'1982JuPe'"
            ],
            "application/vnd.google.colaboratory.intrinsic+json": {
              "type": "string"
            }
          },
          "metadata": {},
          "execution_count": 110
        }
      ]
    },
    {
      "cell_type": "code",
      "source": [
        "mat = [\"algebra\", \"calculo\", \"geometria\", \"lectura y redaccion\",\"artes\"]\n",
        "calif = [7.5, 8.1, 10, 7.7,8.2]\n",
        "registro1.setCalificaciones(materias=mat,calificaciones=calif)\n",
        "\n",
        "registro2.setCalificaciones(registros=[(\"algebra\", 9.5),(\"calculo\", 9.1),(\"geometria\", 10),\n",
        "                            (\"lectura y redaccion\", 10),(\"artes\", 9)])\n"
      ],
      "metadata": {
        "id": "U9ZsloaV97Gs"
      },
      "execution_count": null,
      "outputs": []
    },
    {
      "cell_type": "code",
      "source": [
        "print(f\"Las calificaciones del estudiante: {registro1.estudiante.nombre} {registro1.estudiante.apellido} son:\")\n",
        "registro1.printCalificaciones()\n",
        "\n",
        "print(\"\")\n",
        "\n",
        "print(f\"Las calificaciones del estudiante: {registro2.estudiante.nombre} {registro2.estudiante.apellido} son:\")\n",
        "registro2.printCalificaciones()\n",
        "\n"
      ],
      "metadata": {
        "id": "VtDc8Xek4hPo",
        "colab": {
          "base_uri": "https://localhost:8080/"
        },
        "outputId": "b45cc8fa-ebc9-4b49-c02a-a64b1a664617"
      },
      "execution_count": null,
      "outputs": [
        {
          "output_type": "stream",
          "name": "stdout",
          "text": [
            "Las calificaciones del estudiante: Juan Perez son:\n",
            "algebra: 7.5\n",
            "calculo: 8.1\n",
            "geometria: 10\n",
            "lectura y redaccion: 7.7\n",
            "artes: 8.2\n",
            "\n",
            "Las calificaciones del estudiante: Ana Gonzalez son:\n",
            "algebra: 9.5\n",
            "calculo: 9.1\n",
            "geometria: 10\n",
            "lectura y redaccion: 10\n",
            "artes: 9\n"
          ]
        }
      ]
    },
    {
      "cell_type": "markdown",
      "source": [],
      "metadata": {
        "id": "ut_zXrNJ4lDa"
      }
    },
    {
      "cell_type": "code",
      "source": [
        "!curl --remote-name \\\n",
        "     -H 'Accept: application/vnd.github.v3.raw' \\\n",
        "     --location https://raw.githubusercontent.com/DCDPUAEM/DCDP/main/01%20Programaci%C3%B3n%20en%20Python/notebooks/estudiantes.csv\n",
        "\n"
      ],
      "metadata": {
        "colab": {
          "base_uri": "https://localhost:8080/"
        },
        "id": "1TD34DunAm1d",
        "outputId": "59cd2f7c-f27f-4c21-ba36-638795357642"
      },
      "execution_count": null,
      "outputs": [
        {
          "output_type": "stream",
          "name": "stdout",
          "text": [
            "  % Total    % Received % Xferd  Average Speed   Time    Time     Time  Current\n",
            "                                 Dload  Upload   Total   Spent    Left  Speed\n",
            "\r  0     0    0     0    0     0      0      0 --:--:-- --:--:-- --:--:--     0\r100   434  100   434    0     0   1886      0 --:--:-- --:--:-- --:--:--  1895\n"
          ]
        }
      ]
    },
    {
      "cell_type": "code",
      "source": [
        "import csv\n",
        "\n",
        "estudiantes = []\n",
        "\n",
        "with open(\"estudiantes.csv\") as archivo:\n",
        "    registros = csv.reader(archivo, delimiter=',',quotechar=',')\n",
        "    for r in list(registros)[1:]:\n",
        "        fecha_nac = (int(r[3][2:]),int(r[4]),int(r[5][:-2]))\n",
        "        estudiantes.append([r[1],r[2],fecha_nac,int(r[6])])\n",
        "\n",
        "print(estudiantes)"
      ],
      "metadata": {
        "colab": {
          "base_uri": "https://localhost:8080/"
        },
        "id": "vllLqhqcArU0",
        "outputId": "35669d9c-be2b-469f-8b41-7ced074b6b13"
      },
      "execution_count": null,
      "outputs": [
        {
          "output_type": "stream",
          "name": "stdout",
          "text": [
            "[['Juan', 'Perez', (1999, 2, 26), 6], ['Ana', 'Aranda', (1998, 5, 7), 7], ['Luis', 'Riojas', (2000, 12, 5), 5], ['Diana', 'Valenzo', (2001, 6, 14), 4], ['Lorena', 'Diaz', (1999, 4, 3), 6], ['Jorge', 'Diaz', (1999, 8, 23), 6], ['Gonzalo', 'Vega', (2000, 7, 16), 6], ['Rodrigo', 'Hernandez', (2001, 9, 30), 4], ['Carmela', 'Valadez', (2000, 3, 12), 5], ['Veronica', 'Neri', (1998, 12, 22), 8], ['Antonio', 'Gamboa', (1999, 11, 13), 7], ['Luis', 'Gonzalez', (1998, 6, 4), 8]]\n"
          ]
        }
      ]
    },
    {
      "cell_type": "code",
      "source": [
        "registros =[]\n",
        "for e in estudiantes:\n",
        "  registros.append(Registro(estudiante=e))\n",
        "\n",
        "for r in registros:\n",
        "    print(r.estudiante.nombre)"
      ],
      "metadata": {
        "colab": {
          "base_uri": "https://localhost:8080/"
        },
        "id": "A6JvXqPeDmRM",
        "outputId": "7f6a68d9-22d2-45f7-c3d7-45c3d20765df"
      },
      "execution_count": null,
      "outputs": [
        {
          "output_type": "stream",
          "name": "stdout",
          "text": [
            "Juan\n",
            "Ana\n",
            "Luis\n",
            "Diana\n",
            "Lorena\n",
            "Jorge\n",
            "Gonzalo\n",
            "Rodrigo\n",
            "Carmela\n",
            "Veronica\n",
            "Antonio\n",
            "Luis\n"
          ]
        }
      ]
    },
    {
      "cell_type": "code",
      "source": [
        "!curl --remote-name \\\n",
        "     -H 'Accept: application/vnd.github.v3.raw' \\\n",
        "     --location https://raw.githubusercontent.com/Aquiles07/Actividades_Curso/main/Juan_Perez.csv\n",
        "\n",
        "\n",
        "!curl --remote-name \\\n",
        "     -H 'Accept: application/vnd.github.v3.raw' \\\n",
        "     --location https://raw.githubusercontent.com/Aquiles07/Actividades_Curso/main/Ana_Aranda.csv\n",
        "\n",
        "\n",
        "!curl --remote-name \\\n",
        "     -H 'Accept: application/vnd.github.v3.raw' \\\n",
        "     --location https://raw.githubusercontent.com/Aquiles07/Actividades_Curso/main/Daina_Valenzo.csv\n",
        "\n",
        "!curl --remote-name \\\n",
        "     -H 'Accept: application/vnd.github.v3.raw' \\\n",
        "     --location https://raw.githubusercontent.com/Aquiles07/Actividades_Curso/main/Lorena_Diaz.csv\n",
        "\n",
        "\n",
        "!curl --remote-name \\\n",
        "     -H 'Accept: application/vnd.github.v3.raw' \\\n",
        "     --location https://raw.githubusercontent.com/Aquiles07/Actividades_Curso/main/Luis_Riojas.csv"
      ],
      "metadata": {
        "colab": {
          "base_uri": "https://localhost:8080/"
        },
        "id": "GpiVgn6mwRuv",
        "outputId": "1bcd4134-b926-47f4-e9a7-25d642ac45eb"
      },
      "execution_count": 6,
      "outputs": [
        {
          "output_type": "stream",
          "name": "stdout",
          "text": [
            "  % Total    % Received % Xferd  Average Speed   Time    Time     Time  Current\n",
            "                                 Dload  Upload   Total   Spent    Left  Speed\n",
            "100   110  100   110    0     0    394      0 --:--:-- --:--:-- --:--:--   394\n",
            "  % Total    % Received % Xferd  Average Speed   Time    Time     Time  Current\n",
            "                                 Dload  Upload   Total   Spent    Left  Speed\n",
            "100   109  100   109    0     0    416      0 --:--:-- --:--:-- --:--:--   416\n",
            "  % Total    % Received % Xferd  Average Speed   Time    Time     Time  Current\n",
            "                                 Dload  Upload   Total   Spent    Left  Speed\n",
            "100   114  100   114    0     0    425      0 --:--:-- --:--:-- --:--:--   426\n",
            "  % Total    % Received % Xferd  Average Speed   Time    Time     Time  Current\n",
            "                                 Dload  Upload   Total   Spent    Left  Speed\n",
            "100   111  100   111    0     0    400      0 --:--:-- --:--:-- --:--:--   400\n",
            "  % Total    % Received % Xferd  Average Speed   Time    Time     Time  Current\n",
            "                                 Dload  Upload   Total   Spent    Left  Speed\n",
            "100   112  100   112    0     0    499      0 --:--:-- --:--:-- --:--:--   502\n"
          ]
        }
      ]
    },
    {
      "cell_type": "markdown",
      "source": [
        "**Calificaciones de los Cinco Alumnos**"
      ],
      "metadata": {
        "id": "2NTLIlbGs0lb"
      }
    },
    {
      "cell_type": "code",
      "source": [
        "import csv\n",
        "\n",
        "#Diccionario para los alumnos y calificaciones\n",
        "\n",
        "registros_calificaciones = {}\n",
        "# Lista de los archivos\n",
        "calificaciones_alumnos = [\"Juan_Perez.csv\", \"Ana_Aranda.csv\", \"Daina_Valenzo.csv\", \"Luis_Riojas.csv\", \"Lorena_Diaz.csv\"]\n",
        "\n",
        "# Ciclo para leer los archivos y extraer el nombre\n",
        "for datos in calificaciones_alumnos:\n",
        "    with open(datos) as archivo:\n",
        "        registros = csv.reader(archivo)\n",
        "        header = next(registros)\n",
        "\n",
        "\n",
        "        for row in registros:\n",
        "\n",
        "            nombre = row[1]\n",
        "            apellido = row[2]\n",
        "            nombre_apellido = f\"{nombre} {apellido}\"\n",
        "\n",
        "            # Llamada a la clase estudiante\n",
        "            estudiante = Estudiante(nombre, apellido)\n",
        "\n",
        "            # Llamada a la lase registro\n",
        "            registro = Registro(estudiante)\n",
        "\n",
        "            # Obtener las calificaciones del archivo\n",
        "            registro.setCalificaciones(registros=list(zip(header[3:], [float(grade) for grade in row[3:]])))\n",
        "\n",
        "            # Classe registro que obtiene el diccionario nuevo creado\n",
        "            registros_calificaciones[nombre_apellido] = registro\n",
        "\n",
        "# Example usage\n",
        "for nombre_estudiante, registro in registros_calificaciones.items():\n",
        "    print(f\"\\nCalifcaciones del alumno: {nombre_estudiante}:\")\n",
        "    registro.printCalificaciones()\n",
        "    registro.calcularPromedio()"
      ],
      "metadata": {
        "colab": {
          "base_uri": "https://localhost:8080/"
        },
        "id": "jajQpqSxl3g7",
        "outputId": "5bcc5dd3-b8fa-4787-e501-7f4fddd8e420"
      },
      "execution_count": 8,
      "outputs": [
        {
          "output_type": "stream",
          "name": "stdout",
          "text": [
            "\n",
            "Califcaciones del alumno: Juan Perez:\n",
            "algebra: 7.5\n",
            "calculo: 8.1\n",
            "geometria: 10.0\n",
            "lectura_y_redaccion: 7.7\n",
            "artes: 8.2\n",
            "\n",
            "Promedio de calificaciones del alumno: 8.3\n",
            "\n",
            "Califcaciones del alumno: Ana Aranda:\n",
            "algebra: 9.5\n",
            "calculo: 8.1\n",
            "geometria: 10.0\n",
            "lectura_y_redaccion: 10.0\n",
            "artes: 9.0\n",
            "\n",
            "Promedio de calificaciones del alumno: 9.32\n",
            "\n",
            "Califcaciones del alumno: Daina Valenzo:\n",
            "algebra: 6.5\n",
            "calculo: 9.1\n",
            "geometria: 8.2\n",
            "lectura_y_redaccion: 9.7\n",
            "artes: 6.2\n",
            "\n",
            "Promedio de calificaciones del alumno: 7.94\n",
            "\n",
            "Califcaciones del alumno: Luis Riojas:\n",
            "algebra: 9.5\n",
            "calculo: 8.1\n",
            "geometria: 6.2\n",
            "lectura_y_redaccion: 7.2\n",
            "artes: 9.2\n",
            "\n",
            "Promedio de calificaciones del alumno: 8.040000000000001\n",
            "\n",
            "Califcaciones del alumno: Lorena Diaz:\n",
            "algebra: 9.5\n",
            "calculo: 9.1\n",
            "geometria: 10.0\n",
            "lectura_y_redaccion: 9.7\n",
            "artes: 7.2\n",
            "\n",
            "Promedio de calificaciones del alumno: 9.1\n"
          ]
        }
      ]
    },
    {
      "cell_type": "code",
      "source": [],
      "metadata": {
        "id": "J6mNPnbv4heU"
      },
      "execution_count": null,
      "outputs": []
    }
  ]
}