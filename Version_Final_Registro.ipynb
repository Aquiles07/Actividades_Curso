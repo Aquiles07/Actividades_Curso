{
  "nbformat": 4,
  "nbformat_minor": 0,
  "metadata": {
    "colab": {
      "provenance": [],
      "authorship_tag": "ABX9TyO/TXz4OzxqlNxlgueVoYgc",
      "include_colab_link": true
    },
    "kernelspec": {
      "name": "python3",
      "display_name": "Python 3"
    },
    "language_info": {
      "name": "python"
    }
  },
  "cells": [
    {
      "cell_type": "markdown",
      "metadata": {
        "id": "view-in-github",
        "colab_type": "text"
      },
      "source": [
        "<a href=\"https://colab.research.google.com/github/Aquiles07/Actividades_Curso/blob/main/Version_Final_Registro.ipynb\" target=\"_parent\"><img src=\"https://colab.research.google.com/assets/colab-badge.svg\" alt=\"Open In Colab\"/></a>"
      ]
    },
    {
      "cell_type": "markdown",
      "source": [
        "**Cargar Archivo desde un GITHUB**\n",
        "\n"
      ],
      "metadata": {
        "id": "tzOs1w8sbY0G"
      }
    },
    {
      "cell_type": "code",
      "execution_count": 33,
      "metadata": {
        "colab": {
          "base_uri": "https://localhost:8080/"
        },
        "id": "k5M4mLFMTK9W",
        "outputId": "b52f0463-ad6e-4ca4-f46a-f37b8aa05bb8"
      },
      "outputs": [
        {
          "output_type": "stream",
          "name": "stdout",
          "text": [
            "  % Total    % Received % Xferd  Average Speed   Time    Time     Time  Current\n",
            "                                 Dload  Upload   Total   Spent    Left  Speed\n",
            "\r  0     0    0     0    0     0      0      0 --:--:-- --:--:-- --:--:--     0\r100   699  100   699    0     0   9013      0 --:--:-- --:--:-- --:--:--  9077\n"
          ]
        }
      ],
      "source": [
        "!curl --remote-name \\\n",
        "     -H 'Accept: application/vnd.github.v3.raw' \\\n",
        "     --location https://raw.githubusercontent.com/Aquiles07/Actividades_Curso/main/estudiantes.csv\n"
      ]
    },
    {
      "cell_type": "markdown",
      "source": [
        "**Programa Principal**"
      ],
      "metadata": {
        "id": "Fh5U4jPabx3Z"
      }
    },
    {
      "cell_type": "code",
      "source": [
        "from datetime import date\n",
        "import csv\n",
        "\n",
        "class Persona:\n",
        "    def __init__(self, nombre=\"Sin nombre\", apellido=\"Sin apellido\", fecha_nacimiento=(1900, 1, 1)):\n",
        "        self.nombre = nombre\n",
        "        self.apellido = apellido\n",
        "        self.fecha_nacimiento = date(*fecha_nacimiento)\n",
        "\n",
        "    def saludos(self):\n",
        "        print(\"Saludos, soy\", self.nombre, self.apellido)\n",
        "\n",
        "    def calcula_edad(self):\n",
        "        today = date.today()\n",
        "        edad = int((today - self.fecha_nacimiento).days / 365)\n",
        "        return edad\n",
        "\n",
        "class Estudiante(Persona):\n",
        "    def __init__(self, nombre=\"Sin nombre\", apellido=\"Sin apellido\", fecha_nacimiento=(1900, 1, 1),\n",
        "                 semestre=1):\n",
        "        super().__init__(nombre, apellido, fecha_nacimiento)\n",
        "        self.semestre = semestre\n",
        "        self.materias = []\n",
        "        self.calificaciones = {}\n",
        "        self.__meses__ = {1: \"Enero\", 2: \"Febrero\", 3: \"Marzo\", 4: \"Abril\", 5: \"Mayo\", \\\n",
        "                          6: \"Junio\", 7: \"Julio\", 8: \"Agosto\", 9: \"Septiembre\", \\\n",
        "                          10: \"Octubre\", 11: \"Noviembre\", 12: \"Diciembre\"}\n",
        "\n",
        "    def setMatricula(self):\n",
        "        if self.fecha_nacimiento.year == 1900:\n",
        "            print(\"Error: Fecha de nacimiento inválida\")\n",
        "        else:\n",
        "            self.matricula = str(self.fecha_nacimiento.year) + self.nombre[:2] + self.apellido[:2]\n",
        "        return\n",
        "\n",
        "    def getMatricula(self):\n",
        "        return self.matricula\n",
        "\n",
        "    def setFechaIngreso(self, fecha: tuple):\n",
        "        self.fecha_ingreso = date(*fecha)\n",
        "        return\n",
        "\n",
        "    def setSemestre(self, semestre=1):\n",
        "        self.semestre = semestre\n",
        "        return\n",
        "\n",
        "    def getFechaIngreso(self):\n",
        "        anio = self.fecha_ingreso.year\n",
        "        mes = self.fecha_ingreso.month\n",
        "        dia = self.fecha_ingreso.day\n",
        "        print(f\"El estudiante {self.nombre} {self.apellido} ingresó el {dia} de {self.__meses__[mes]} de {anio}\")\n",
        "        return\n",
        "\n",
        "class Registro():\n",
        "    def __init__(self, *args: Estudiante, **kwargs):\n",
        "        if kwargs.get(\"estudiante\") is not None:\n",
        "            self.estudiante = Estudiante(*kwargs.get(\"estudiante\"))\n",
        "        else:\n",
        "            self.estudiante = args[0]  # objeto de tipo Estudiante\n",
        "\n",
        "    def setCalificaciones(self, **kwargs):\n",
        "        if len(kwargs) == 0:\n",
        "            print(\"Error: Ningún registro de calificaciones proporcionado\")\n",
        "        else:\n",
        "            if kwargs.get('registros') is not None:\n",
        "                if len(kwargs.get('registros')) == 0:\n",
        "                    print(\"Error: Ningún registro de calificaciones proporcionado\")\n",
        "                else:\n",
        "                    registros = kwargs.get('registros')\n",
        "                    for r in registros:\n",
        "                        self.estudiante.calificaciones[r[0]] = r[1]\n",
        "\n",
        "            elif kwargs.get('materias') is not None and kwargs.get('calificaciones') is not None:\n",
        "                materias = kwargs.get('materias')\n",
        "                califs = kwargs.get('calificaciones')\n",
        "                if len(materias) != len(califs):\n",
        "                    print(\"Error: no hay correspondencia entre el número de materias y el número de calificaciones\")\n",
        "                else:\n",
        "                    for m, c in zip(materias, califs):\n",
        "                        self.estudiante.calificaciones[m] = c\n",
        "        return\n",
        "\n",
        "    def printCalificaciones(self):\n",
        "        if len(self.estudiante.calificaciones) == 0:\n",
        "            print(\"Error: no se han capturado calificaciones\")\n",
        "        else:\n",
        "            for m in self.estudiante.calificaciones.keys():\n",
        "                print(f\"{m}: {self.estudiante.calificaciones[m]}\")\n",
        "        return\n",
        "\n",
        "    def calcularPromedio(self):\n",
        "        if len(self.estudiante.calificaciones) == 0:\n",
        "            print(\"Error: no se han capturado calificaciones para calcular el promedio\")\n",
        "        else:\n",
        "            promedio = sum(self.estudiante.calificaciones.values()) / len(self.estudiante.calificaciones)\n",
        "            print(f\"Promedio de calificaciones de {self.estudiante.nombre} {self.estudiante.apellido}: {promedio:.2f}\")\n",
        "            return promedio\n",
        "\n",
        "\n",
        "    def cargarDesdeCSV(cls, archivo_csv):\n",
        "        registros_calificaciones = {}\n",
        "        with open(archivo_csv) as archivo:\n",
        "            registros = csv.reader(archivo)\n",
        "            header = next(registros)\n",
        "\n",
        "            for row in registros:\n",
        "                nombre = row[1]\n",
        "                apellido = row[2]\n",
        "                fecha_nacimiento = tuple(map(int, row[3].strip('()').split(',')))\n",
        "                semestre = int(row[4])\n",
        "\n",
        "                # Llamada a la clase estudiante\n",
        "                estudiante = Estudiante(nombre, apellido, fecha_nacimiento, semestre)\n",
        "\n",
        "                # Llamada a la clase registro\n",
        "                registro = cls(estudiante)\n",
        "\n",
        "                # Obtener las calificaciones del archivo\n",
        "                registro.setCalificaciones(registros=list(zip(header[5:], [float(calificacion) for calificacion in row[5:]])))\n",
        "\n",
        "                # Clase registro que obtiene el diccionario nuevo creado\n",
        "                registros_calificaciones[f\"{nombre} {apellido}\"] = registro\n",
        "\n",
        "        return registros_calificaciones\n",
        "\n",
        "\n",
        "calificaciones_alumnos = \"estudiantes.csv\"\n",
        "registros_calificaciones = Registro.cargarDesdeCSV(calificaciones_alumnos)\n",
        "\n",
        "\n",
        "promedio_semestre = {}\n",
        "\n",
        "for nombre_estudiante, registro in registros_calificaciones.items():\n",
        "    # Print individual student's grades\n",
        "    print(f\"\\nCalificaciones del estudiante: {nombre_estudiante}, Semestre {registro.estudiante.semestre}:\")\n",
        "    registro.printCalificaciones()\n",
        "    promedio_semestre.setdefault(registro.estudiante.semestre, []).append(registro.calcularPromedio())\n",
        "\n",
        "# Print semester averages\n",
        "for semestre, promedios in promedio_semestre.items():\n",
        "    promedio_total = sum(promedios) / len(promedios)\n",
        "    print(f\"\\nPromedio del semestre {semestre}: {promedio_total:.2f}\")\n"
      ],
      "metadata": {
        "id": "fp4xaXH2bxfU",
        "colab": {
          "base_uri": "https://localhost:8080/",
          "height": 245
        },
        "outputId": "f00ea2aa-da2b-4421-97fa-143f26dba8e4"
      },
      "execution_count": 51,
      "outputs": [
        {
          "output_type": "error",
          "ename": "TypeError",
          "evalue": "Registro.cargarDesdeCSV() missing 1 required positional argument: 'archivo_csv'",
          "traceback": [
            "\u001b[0;31m---------------------------------------------------------------------------\u001b[0m",
            "\u001b[0;31mTypeError\u001b[0m                                 Traceback (most recent call last)",
            "\u001b[0;32m<ipython-input-51-9adf6d883bd9>\u001b[0m in \u001b[0;36m<cell line: 128>\u001b[0;34m()\u001b[0m\n\u001b[1;32m    126\u001b[0m \u001b[0;34m\u001b[0m\u001b[0m\n\u001b[1;32m    127\u001b[0m \u001b[0mcalificaciones_alumnos\u001b[0m \u001b[0;34m=\u001b[0m \u001b[0;34m\"estudiantes.csv\"\u001b[0m\u001b[0;34m\u001b[0m\u001b[0;34m\u001b[0m\u001b[0m\n\u001b[0;32m--> 128\u001b[0;31m \u001b[0mregistros_calificaciones\u001b[0m \u001b[0;34m=\u001b[0m \u001b[0mRegistro\u001b[0m\u001b[0;34m.\u001b[0m\u001b[0mcargarDesdeCSV\u001b[0m\u001b[0;34m(\u001b[0m\u001b[0mcalificaciones_alumnos\u001b[0m\u001b[0;34m)\u001b[0m\u001b[0;34m\u001b[0m\u001b[0;34m\u001b[0m\u001b[0m\n\u001b[0m\u001b[1;32m    129\u001b[0m \u001b[0;34m\u001b[0m\u001b[0m\n\u001b[1;32m    130\u001b[0m \u001b[0;34m\u001b[0m\u001b[0m\n",
            "\u001b[0;31mTypeError\u001b[0m: Registro.cargarDesdeCSV() missing 1 required positional argument: 'archivo_csv'"
          ]
        }
      ]
    }
  ]
}