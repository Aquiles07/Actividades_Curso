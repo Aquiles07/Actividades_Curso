{
  "nbformat": 4,
  "nbformat_minor": 0,
  "metadata": {
    "colab": {
      "provenance": [],
      "authorship_tag": "ABX9TyOl1qIqyHzhCbMnjuqlUEr/",
      "include_colab_link": true
    },
    "kernelspec": {
      "name": "python3",
      "display_name": "Python 3"
    },
    "language_info": {
      "name": "python"
    }
  },
  "cells": [
    {
      "cell_type": "markdown",
      "metadata": {
        "id": "view-in-github",
        "colab_type": "text"
      },
      "source": [
        "<a href=\"https://colab.research.google.com/github/Aquiles07/Actividades_Curso/blob/main/Tarea_2_registro_estudiantes.ipynb\" target=\"_parent\"><img src=\"https://colab.research.google.com/assets/colab-badge.svg\" alt=\"Open In Colab\"/></a>"
      ]
    },
    {
      "cell_type": "code",
      "source": [
        "#Clase Importante\n",
        "from datetime import date\n",
        "\n",
        "class Persona:\n",
        "    def __init__(self, nombre = \"Sin nombre\", apellido = \"Sin apellido\", fecha_nacimiento = (1900, 1, 1)):\n",
        "        self.nombre = nombre\n",
        "        self.apellido = apellido\n",
        "        self.fecha_nacimiento = date(*fecha_nacimiento)\n",
        "\n",
        "    def saludos(self):\n",
        "        print(\"Saludos, soy\", self.nombre, self.apellido)\n",
        "\n",
        "    def calcula_edad(self):\n",
        "        today = date.today()\n",
        "        edad = int((today - self.fecha_nacimiento).days / 365)\n",
        "        return edad\n",
        "\n",
        "class Estudiante(Persona):\n",
        "    def __init__(self, nombre = \"Sin nombre\", apellido = \"Sin apellido\", fecha_nacimiento = (1900, 1, 1),\n",
        "                 semestre:int = 1):\n",
        "        super().__init__(nombre, apellido, fecha_nacimiento)\n",
        "        self.semestre = semestre\n",
        "        self.materias = []\n",
        "        self.calificaciones = {}\n",
        "        self.__meses__ = {1:\"Enero\",2:\"Febrero\",3:\"Marzo\",4:\"Abril\",5:\"Mayo\",\\\n",
        "                          6:\"Junio\",7:\"Julio\",8:\"Agosto\",9:\"Septiembre\",\\\n",
        "                            10:\"Octubre\",11:\"Noviembre\",12:\"Diciembre\"}\n",
        "\n",
        "    def setMatricula(self):\n",
        "        if self.fecha_nacimiento.year == 1900:\n",
        "            print(\"Error: Fecha de nacimiento inválida\")\n",
        "        else:\n",
        "            self.matricula = str(self.fecha_nacimiento.year) + self.nombre[:2] + self.apellido[:2]\n",
        "        return\n",
        "\n",
        "    def getMatricula(self):\n",
        "        return self.matricula\n",
        "\n",
        "    def setFechaIngreso(self,fecha:tuple):\n",
        "        self.fecha_ingreso = date(*fecha)\n",
        "        return\n",
        "\n",
        "    def setSemestre(self,semestre:int=1):\n",
        "        self.semestre = semestre\n",
        "        return\n",
        "\n",
        "    def getFechaIngreso(self):\n",
        "        anio = self.fecha_ingreso.year\n",
        "        mes = self.fecha_ingreso.month\n",
        "        dia = self.fecha_ingreso.day\n",
        "        print(f\"El estudiante {self.nombre} {self.apellido} ingresó el {dia} de {self.__meses__[mes]} de {anio}\")\n",
        "        return\n",
        "\n",
        "class Registro():\n",
        "    def __init__(self,*args:Estudiante,**kwargs):\n",
        "        # print('args =',args, 'kwargs =',kwargs, *kwargs.get(\"estudiante\"))\n",
        "        if kwargs.get(\"estudiante\") != None:\n",
        "            self.estudiante = Estudiante(*kwargs.get(\"estudiante\"))\n",
        "        else:\n",
        "            self.estudiante = args[0] # objeto de tipo Estudiante\n",
        "\n",
        "    def setCalificaciones(self,**kwargs):\n",
        "        if len(kwargs) ==0:\n",
        "            print(\"Error: Ningún registro de calificaciones proporcionado\")\n",
        "        else:\n",
        "            if kwargs.get('registros') != None:\n",
        "                if len(kwargs.get('registros')) == 0:\n",
        "                    print(\"Error: Ningún registro de calificaciones proporcionado\")\n",
        "                else:\n",
        "                    registros = kwargs.get('registros')\n",
        "                    for r in registros:\n",
        "                        self.estudiante.calificaciones[r[0]] = r[1]\n",
        "\n",
        "            elif kwargs.get('materias') != None and kwargs.get('calificaciones') != None:\n",
        "                materias = kwargs.get('materias')\n",
        "                califs = kwargs.get('calificaciones')\n",
        "                if len(materias) != len(califs):\n",
        "                    print(\"Error: no hay correspondencia entre el número de materias y el número de calificaciones\")\n",
        "                else:\n",
        "                    for m,c in zip(materias,califs):\n",
        "                        self.estudiante.calificaciones[m] = c\n",
        "        return\n",
        "\n",
        "    def printCalificaciones(self):\n",
        "        if len(self.estudiante.calificaciones) == 0:\n",
        "            print(\"Error: no se han capturado calificaciones\")\n",
        "        else:\n",
        "            for m in self.estudiante.calificaciones.keys():\n",
        "                print(f\"{m}: {self.estudiante.calificaciones[m]}\")\n",
        "        return\n",
        "\n"
      ],
      "metadata": {
        "id": "QD3CjiGMfmy5"
      },
      "execution_count": null,
      "outputs": []
    },
    {
      "cell_type": "code",
      "source": [
        "# Ejemplo 1\n",
        "estudiante = Estudiante(\"Juan\",\"Perez\",(1982,8,1),3)\n",
        "print(estudiante.nombre)\n",
        "print(estudiante.semestre)"
      ],
      "metadata": {
        "id": "eNmTuH3-n8hL",
        "colab": {
          "base_uri": "https://localhost:8080/"
        },
        "outputId": "95607fac-a485-4cb4-8569-22875a1e557e"
      },
      "execution_count": null,
      "outputs": [
        {
          "output_type": "stream",
          "name": "stdout",
          "text": [
            "Juan\n",
            "3\n"
          ]
        }
      ]
    },
    {
      "cell_type": "code",
      "source": [
        "registro1 = Registro(estudiante)\n",
        "registro1.estudiante.setMatricula()\n",
        "registro1.estudiante.getMatricula()\n",
        "\n",
        "registro2 = Registro(estudiante=['Ana', 'Gonzalez', (1999, 2, 26), 6])"
      ],
      "metadata": {
        "id": "6HGGbP_-zlOV"
      },
      "execution_count": null,
      "outputs": []
    },
    {
      "cell_type": "code",
      "source": [
        "#Calificaciones\n",
        "\n",
        "registro2.setCalificaciones([(\"algebra\", 9.5),(\"calculo\", 9.1),(\"geometria\", 10),\n",
        "                             \"lectura y redacción\", 10,(\"artes\",9)])\n"
      ],
      "metadata": {
        "id": "--wm5Zke4lZ7"
      },
      "execution_count": null,
      "outputs": []
    },
    {
      "cell_type": "code",
      "source": [
        "mat = [\"algebra\", \"calculo\", \"geometria\", \"lectura y redaccion\",\"artes\"]\n",
        "calif = [7.5, 8.1, 10, 7.7,8.2]\n",
        "registro1.setCalificaciones(materias=mat,calificaciones=calif)"
      ],
      "metadata": {
        "id": "U9ZsloaV97Gs"
      },
      "execution_count": null,
      "outputs": []
    },
    {
      "cell_type": "code",
      "source": [
        "print(f\"Las calificaciones del estudiante: {registro1.estudiante.nombre} {registro1.estudiante.apellido} son:\")\n",
        "registro1.printCalificaciones()\n",
        "\n",
        "print(\"\")\n",
        "\n",
        "print(f\"Las calificaciones del estudiante: {registro2.estudiante.nombre} {registro2.estudiante.apellido} son:\")\n",
        "registro2.printCalificaciones()"
      ],
      "metadata": {
        "id": "VtDc8Xek4hPo",
        "colab": {
          "base_uri": "https://localhost:8080/"
        },
        "outputId": "09a03071-6f35-4809-e811-40f818b588b1"
      },
      "execution_count": null,
      "outputs": [
        {
          "output_type": "stream",
          "name": "stdout",
          "text": [
            "Las calificaciones del estudiante: Juan Perez son:\n",
            "algebra: 7.5\n",
            "calculo: 8.1\n",
            "geometria: 10\n",
            "lectura y redaccion: 7.7\n",
            "artes: 8.2\n",
            "\n",
            "Las calificaciones del estudiante: Ana Gonzalez son:\n",
            "algebra: 9.5\n",
            "calculo: 9.1\n",
            "geometria: 10\n",
            "lectura y redaccion: 10\n",
            "artes: 9\n"
          ]
        }
      ]
    },
    {
      "cell_type": "markdown",
      "source": [],
      "metadata": {
        "id": "ut_zXrNJ4lDa"
      }
    },
    {
      "cell_type": "code",
      "source": [
        "!curl --remote-name \\\n",
        "     -H 'Accept: application/vnd.github.v3.raw' \\\n",
        "     --location https://raw.githubusercontent.com/DCDPUAEM/DCDP/main/01%20Programaci%C3%B3n%20en%20Python/notebooks/estudiantes.csv"
      ],
      "metadata": {
        "colab": {
          "base_uri": "https://localhost:8080/"
        },
        "id": "1TD34DunAm1d",
        "outputId": "797b8670-6105-4230-9a45-bd04bb133a50"
      },
      "execution_count": null,
      "outputs": [
        {
          "output_type": "stream",
          "name": "stdout",
          "text": [
            "  % Total    % Received % Xferd  Average Speed   Time    Time     Time  Current\n",
            "                                 Dload  Upload   Total   Spent    Left  Speed\n",
            "100   434  100   434    0     0   1098      0 --:--:-- --:--:-- --:--:--  1095\n"
          ]
        }
      ]
    },
    {
      "cell_type": "code",
      "source": [
        "import csv\n",
        "\n",
        "estudiantes = []\n",
        "\n",
        "with open(\"estudiantes.csv\") as archivo:\n",
        "    registros = csv.reader(archivo, delimiter=',',quotechar=',')\n",
        "    for r in list(registros)[1:]:\n",
        "        fecha_nac = (int(r[3][2:]),int(r[4]),int(r[5][:-2]))\n",
        "        estudiantes.append([r[1],r[2],fecha_nac,int(r[6])])\n",
        "\n",
        "print(estudiantes)"
      ],
      "metadata": {
        "colab": {
          "base_uri": "https://localhost:8080/"
        },
        "id": "vllLqhqcArU0",
        "outputId": "6d827834-8a7b-4536-d748-50cbf6a2ec9e"
      },
      "execution_count": null,
      "outputs": [
        {
          "output_type": "stream",
          "name": "stdout",
          "text": [
            "[['Juan', 'Perez', (1999, 2, 26), 6], ['Ana', 'Aranda', (1998, 5, 7), 7], ['Luis', 'Riojas', (2000, 12, 5), 5], ['Diana', 'Valenzo', (2001, 6, 14), 4], ['Lorena', 'Diaz', (1999, 4, 3), 6], ['Jorge', 'Diaz', (1999, 8, 23), 6], ['Gonzalo', 'Vega', (2000, 7, 16), 6], ['Rodrigo', 'Hernandez', (2001, 9, 30), 4], ['Carmela', 'Valadez', (2000, 3, 12), 5], ['Veronica', 'Neri', (1998, 12, 22), 8], ['Antonio', 'Gamboa', (1999, 11, 13), 7], ['Luis', 'Gonzalez', (1998, 6, 4), 8]]\n"
          ]
        }
      ]
    },
    {
      "cell_type": "code",
      "source": [
        "registros =[]\n",
        "for e in estudiantes:\n",
        "  registros.append(Registro(estudiante=e))\n",
        "\n",
        "for r in registros:\n",
        "    print(r.estudiante.nombre)"
      ],
      "metadata": {
        "colab": {
          "base_uri": "https://localhost:8080/"
        },
        "id": "A6JvXqPeDmRM",
        "outputId": "acd9c8ba-7e96-4363-8d85-b015b25d5bcb"
      },
      "execution_count": null,
      "outputs": [
        {
          "output_type": "stream",
          "name": "stdout",
          "text": [
            "Juan\n",
            "Ana\n",
            "Luis\n",
            "Diana\n",
            "Lorena\n",
            "Jorge\n",
            "Gonzalo\n",
            "Rodrigo\n",
            "Carmela\n",
            "Veronica\n",
            "Antonio\n",
            "Luis\n"
          ]
        }
      ]
    }
  ]
}
