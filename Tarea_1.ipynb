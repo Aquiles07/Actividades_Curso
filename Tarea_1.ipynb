{
  "nbformat": 4,
  "nbformat_minor": 0,
  "metadata": {
    "colab": {
      "provenance": [],
      "authorship_tag": "ABX9TyNLGspeaSsLA5o4i43jYQoP",
      "include_colab_link": true
    },
    "kernelspec": {
      "name": "python3",
      "display_name": "Python 3"
    },
    "language_info": {
      "name": "python"
    }
  },
  "cells": [
    {
      "cell_type": "markdown",
      "metadata": {
        "id": "view-in-github",
        "colab_type": "text"
      },
      "source": [
        "<a href=\"https://colab.research.google.com/github/Aquiles07/Actividades_Curso/blob/main/Tarea_1.ipynb\" target=\"_parent\"><img src=\"https://colab.research.google.com/assets/colab-badge.svg\" alt=\"Open In Colab\"/></a>"
      ]
    },
    {
      "cell_type": "markdown",
      "source": [
        "**Actividad 1.**\n",
        "\n",
        "Ejercicio de dos numeros:"
      ],
      "metadata": {
        "id": "lYJrVqFCvxaJ"
      }
    },
    {
      "cell_type": "code",
      "execution_count": null,
      "metadata": {
        "colab": {
          "base_uri": "https://localhost:8080/"
        },
        "id": "wF0srZecvwlk",
        "outputId": "12f4db54-f327-4710-c97a-3315933a34d8"
      },
      "outputs": [
        {
          "output_type": "stream",
          "name": "stdout",
          "text": [
            "Ingrese numeros enteros positivos\n",
            "Ingrese numero n (n): 6\n",
            "Ingrese segundo numero n: (m): 7\n",
            "Estos son los numeros ingresados: n = 6 m = 7\n"
          ]
        }
      ],
      "source": [
        "print(\"Ingrese numeros enteros positivos\")\n",
        "\n",
        "while True:\n",
        "    n = int(input(\"Ingrese numero n (n): \"))\n",
        "    m = int(input(\"Ingrese segundo numero n: (m): \"))\n",
        "\n",
        "    if n > 0 and m > 0 and n < m:\n",
        "        break\n",
        "    else:\n",
        "        print(\"Numeros invalidos, vuelva a ingresar otros\")\n",
        "\n",
        "# Now you can use the values of n and m\n",
        "print(\"Estos son los numeros ingresados: n =\", n, \"m =\", m)"
      ]
    },
    {
      "cell_type": "markdown",
      "source": [
        "**Actividad 2.**\n",
        "\n",
        "Ejercicio \"Juego FIZZ, BUZZ\""
      ],
      "metadata": {
        "id": "SNap07bIVKqE"
      }
    },
    {
      "cell_type": "code",
      "source": [
        "# Entrada de Usuario\n",
        "primer_numero = int(input(\"Escriba el primer numero: \"))\n",
        "ultimo_numbero = int(input(\"Escriba el ultimo numero: \"))\n",
        "\n",
        "#Cilo para la secuencia\n",
        "\n",
        "for numero in range(primer_numero, ultimo_numbero + 1):\n",
        "    palabra = \"\" # Variable para poner fizz y buzz\n",
        "\n",
        "   #Condiciones para poner las palabras Fizz o Buzz\n",
        "    if numero % 3 == 0:\n",
        "        palabra += \"Fizz\"\n",
        "    if numero % 5 == 0:\n",
        "        palabra += \"Buzz\"\n",
        "\n",
        "    # Condociones para Imprimir los numeros o palabras\n",
        "    if palabra:\n",
        "        print(palabra)\n",
        "    else:\n",
        "        print(numero)"
      ],
      "metadata": {
        "colab": {
          "base_uri": "https://localhost:8080/"
        },
        "id": "a6K6FMMjVZab",
        "outputId": "6a525320-7049-4070-cfcd-ba421ad92870"
      },
      "execution_count": null,
      "outputs": [
        {
          "output_type": "stream",
          "name": "stdout",
          "text": [
            "Escriba el primer numero: 13\n",
            "Escriba el ultimo numero: 19\n",
            "13\n",
            "14\n",
            "FizzBuzz\n",
            "16\n",
            "17\n",
            "Fizz\n",
            "19\n"
          ]
        }
      ]
    },
    {
      "cell_type": "code",
      "source": [
        "try:\n",
        "    value = input(\"Ingresa un valor: \")\n",
        "    print(value/value)\n",
        "except ValueError:\n",
        "    print(\"Entrada incorrecta...\")\n",
        "except ZeroDivisionError:\n",
        "    print(\"Entrada errónea...\")\n",
        "except TypeError:\n",
        "    print(\"Entrada muy errónea...\")\n",
        "except:\n",
        "    print(\"¡Buuu!\")"
      ],
      "metadata": {
        "id": "ATfmu1sen8yX"
      },
      "execution_count": null,
      "outputs": []
    },
    {
      "cell_type": "code",
      "source": [
        "tup = (1, 2, 4, 8)\n",
        "tup = tup[1:-1]\n",
        "tup = tup[0]\n",
        "print(tup)"
      ],
      "metadata": {
        "colab": {
          "base_uri": "https://localhost:8080/"
        },
        "id": "qiA-dBerplit",
        "outputId": "0d00c862-450b-46d1-e183-a163ffc018c5"
      },
      "execution_count": null,
      "outputs": [
        {
          "output_type": "stream",
          "name": "stdout",
          "text": [
            "2\n"
          ]
        }
      ]
    }
  ]
}