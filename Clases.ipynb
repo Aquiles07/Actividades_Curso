{
  "nbformat": 4,
  "nbformat_minor": 0,
  "metadata": {
    "colab": {
      "provenance": [],
      "authorship_tag": "ABX9TyN2bGzzei6ugI206f2BFSPr",
      "include_colab_link": true
    },
    "kernelspec": {
      "name": "python3",
      "display_name": "Python 3"
    },
    "language_info": {
      "name": "python"
    }
  },
  "cells": [
    {
      "cell_type": "markdown",
      "metadata": {
        "id": "view-in-github",
        "colab_type": "text"
      },
      "source": [
        "<a href=\"https://colab.research.google.com/github/Aquiles07/Actividades_Curso/blob/main/Clases.ipynb\" target=\"_parent\"><img src=\"https://colab.research.google.com/assets/colab-badge.svg\" alt=\"Open In Colab\"/></a>"
      ]
    },
    {
      "cell_type": "code",
      "execution_count": null,
      "metadata": {
        "id": "vebBnoDoDQKk"
      },
      "outputs": [],
      "source": []
    },
    {
      "cell_type": "code",
      "source": [
        "from datetime import date\n",
        "\n",
        "# Clase Persona\n",
        "class Persona:\n",
        "    def __init__(self, nombre, apellido, fecha_nacimiento):\n",
        "        # los atributos de la interfaz\n",
        "        self.nombre = nombre\n",
        "        self.apellido = apellido\n",
        "        self.fecha_nacimiento = fecha_nacimiento\n",
        "\n",
        "    def edad(self):\n",
        "        today = date.today()\n",
        "        edad = int((today - self.fecha_nacimiento).days / 365)\n",
        "        return edad\n",
        "\n",
        "# Clase Registro de estudiante\n",
        "class Registro(Persona):\n",
        "\n",
        "  def __init__(self, nombre, apellido, fecha_nacimiento, matricula, fecha_ingreso, semestre):\n",
        "\n",
        "\n",
        "    self.matricula = matricula\n",
        "    self.fecha_ingreso = fecha_ingreso\n",
        "    self.semestre = semestre\n",
        "    self.calificaciones = {}\n",
        "\n",
        "  def generarMatricula(self):\n",
        "        return str(self.fecha_nacimiento.year) + self.nombre[:2] + self.apellido[:2]\n",
        "\n",
        "  def add_grade(self, materia, calificacion):\n",
        "        self.calificaciones[materia] = calificacion\n",
        "\n",
        "persona = Persona(\"John\", \"Connor\", date(1990, 1, 15))\n",
        "\n",
        "# metodo Persona\n",
        "print(\"Metodo Persona\")\n",
        "print(\"\")\n",
        "print(\"Nombre:\", persona.nombre)\n",
        "print(\"Apellido:\", persona.apellido)\n",
        "print(\"Fecha de Nacimiento:\", persona.fecha_nacimiento)\n",
        "print(\"Edad:\", persona.edad())\n",
        "\n",
        " #Registro_estudiante\n",
        "print(\"\")\n",
        "print(\"Metodo Registro de Estudiante\")\n",
        "registro = Registro(\"John\", \"Connor\", date(1990, 1, 15), \"2023001\", date(2023, 9, 1), 3)\n",
        "print(\"Nombre:\", registro.nombre)\n",
        "print(\"Apellido:\", registro.apellido)\n",
        "print(\"Fecha de Nacimiento:\", registro.fecha_nacimiento)\n",
        "print(\"Matricula:\", registro.matricula)\n",
        "print(\"Fecha de Ingreso:\", registro.fecha_ingreso)\n",
        "print(\"Semestre:\", registro.semestre)\n",
        "print(\"Edad:\", registro.edad())\n"
      ],
      "metadata": {
        "id": "QD3CjiGMfmy5",
        "colab": {
          "base_uri": "https://localhost:8080/",
          "height": 383
        },
        "outputId": "c49db380-481d-45a3-c1c9-4bba026918c4"
      },
      "execution_count": 16,
      "outputs": [
        {
          "output_type": "stream",
          "name": "stdout",
          "text": [
            "Metodo Persona\n",
            "\n",
            "Nombre: John\n",
            "Apellido: Connor\n",
            "Fecha de Nacimiento: 1990-01-15\n",
            "Edad: 34\n",
            "\n",
            "Metodo Registro de Estudiante\n"
          ]
        },
        {
          "output_type": "error",
          "ename": "AttributeError",
          "evalue": "'Registro' object has no attribute 'nombre'",
          "traceback": [
            "\u001b[0;31m---------------------------------------------------------------------------\u001b[0m",
            "\u001b[0;31mAttributeError\u001b[0m                            Traceback (most recent call last)",
            "\u001b[0;32m<ipython-input-16-9f4d982f5060>\u001b[0m in \u001b[0;36m<cell line: 47>\u001b[0;34m()\u001b[0m\n\u001b[1;32m     45\u001b[0m \u001b[0mprint\u001b[0m\u001b[0;34m(\u001b[0m\u001b[0;34m\"Metodo Registro de Estudiante\"\u001b[0m\u001b[0;34m)\u001b[0m\u001b[0;34m\u001b[0m\u001b[0;34m\u001b[0m\u001b[0m\n\u001b[1;32m     46\u001b[0m \u001b[0mregistro\u001b[0m \u001b[0;34m=\u001b[0m \u001b[0mRegistro\u001b[0m\u001b[0;34m(\u001b[0m\u001b[0;34m\"John\"\u001b[0m\u001b[0;34m,\u001b[0m \u001b[0;34m\"Connor\"\u001b[0m\u001b[0;34m,\u001b[0m \u001b[0mdate\u001b[0m\u001b[0;34m(\u001b[0m\u001b[0;36m1990\u001b[0m\u001b[0;34m,\u001b[0m \u001b[0;36m1\u001b[0m\u001b[0;34m,\u001b[0m \u001b[0;36m15\u001b[0m\u001b[0;34m)\u001b[0m\u001b[0;34m,\u001b[0m \u001b[0;34m\"2023001\"\u001b[0m\u001b[0;34m,\u001b[0m \u001b[0mdate\u001b[0m\u001b[0;34m(\u001b[0m\u001b[0;36m2023\u001b[0m\u001b[0;34m,\u001b[0m \u001b[0;36m9\u001b[0m\u001b[0;34m,\u001b[0m \u001b[0;36m1\u001b[0m\u001b[0;34m)\u001b[0m\u001b[0;34m,\u001b[0m \u001b[0;36m3\u001b[0m\u001b[0;34m)\u001b[0m\u001b[0;34m\u001b[0m\u001b[0;34m\u001b[0m\u001b[0m\n\u001b[0;32m---> 47\u001b[0;31m \u001b[0mprint\u001b[0m\u001b[0;34m(\u001b[0m\u001b[0;34m\"Nombre:\"\u001b[0m\u001b[0;34m,\u001b[0m \u001b[0mregistro\u001b[0m\u001b[0;34m.\u001b[0m\u001b[0mnombre\u001b[0m\u001b[0;34m)\u001b[0m\u001b[0;34m\u001b[0m\u001b[0;34m\u001b[0m\u001b[0m\n\u001b[0m\u001b[1;32m     48\u001b[0m \u001b[0mprint\u001b[0m\u001b[0;34m(\u001b[0m\u001b[0;34m\"Apellido:\"\u001b[0m\u001b[0;34m,\u001b[0m \u001b[0mregistro\u001b[0m\u001b[0;34m.\u001b[0m\u001b[0mapellido\u001b[0m\u001b[0;34m)\u001b[0m\u001b[0;34m\u001b[0m\u001b[0;34m\u001b[0m\u001b[0m\n\u001b[1;32m     49\u001b[0m \u001b[0mprint\u001b[0m\u001b[0;34m(\u001b[0m\u001b[0;34m\"Fecha de Nacimiento:\"\u001b[0m\u001b[0;34m,\u001b[0m \u001b[0mregistro\u001b[0m\u001b[0;34m.\u001b[0m\u001b[0mfecha_nacimiento\u001b[0m\u001b[0;34m)\u001b[0m\u001b[0;34m\u001b[0m\u001b[0;34m\u001b[0m\u001b[0m\n",
            "\u001b[0;31mAttributeError\u001b[0m: 'Registro' object has no attribute 'nombre'"
          ]
        }
      ]
    }
  ]
}